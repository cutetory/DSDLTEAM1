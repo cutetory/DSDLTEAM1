{
 "cells": [
  {
   "cell_type": "code",
   "execution_count": 10,
   "id": "f193c7d7-b80d-4a0d-a788-84e8aea87b03",
   "metadata": {},
   "outputs": [],
   "source": [
    "import time\n",
    "import sys\n",
    "import os\n",
    "import tensorflow as tf\n",
    "import inspect #디버깅용\n"
   ]
  },
  {
   "cell_type": "code",
   "execution_count": 9,
   "id": "447d7bc7",
   "metadata": {},
   "outputs": [
    {
     "name": "stdout",
     "output_type": "stream",
     "text": [
      "2023-08-13 09:17:36: [/tmp/ipykernel_23/1506597293.py]:Python 버전 sys.version_info(major=3, minor=8, micro=10, releaselevel='final', serial=0)\n",
      "2023-08-13 09:17:36: [/tmp/ipykernel_23/1506597293.py]:Tensorflow 버전 2.13.0\n"
     ]
    }
   ],
   "source": [
    "\n",
    "def time_stamp():\n",
    "    temp = r\"%Y-%m-%d %H:%M:%S\"\n",
    "    current_frame = inspect.currentframe()\n",
    "    tmp = f\"{time.strftime(temp, time.localtime(time.time()))}: [{inspect.getframeinfo(current_frame).filename}]:\"\n",
    "    return tmp\n",
    "\n",
    "def version_all():\n",
    "    print(f\"{time_stamp()}Python 버전 {sys.version_info}\")\n",
    "    print(f\"{time_stamp()}Tensorflow 버전 {tf.__version__}\")\n",
    "\n",
    "\n",
    "version_all()"
   ]
  },
  {
   "cell_type": "code",
   "execution_count": 2,
   "id": "4148544e-af57-4dba-b16e-b8b955204f8b",
   "metadata": {},
   "outputs": [
    {
     "name": "stderr",
     "output_type": "stream",
     "text": [
      "2023-08-13 06:19:47.933278: I tensorflow/core/util/port.cc:110] oneDNN custom operations are on. You may see slightly different numerical results due to floating-point round-off errors from different computation orders. To turn them off, set the environment variable `TF_ENABLE_ONEDNN_OPTS=0`.\n",
      "2023-08-13 06:19:47.934220: I tensorflow/tsl/cuda/cudart_stub.cc:28] Could not find cuda drivers on your machine, GPU will not be used.\n",
      "2023-08-13 06:19:47.950799: I tensorflow/tsl/cuda/cudart_stub.cc:28] Could not find cuda drivers on your machine, GPU will not be used.\n",
      "2023-08-13 06:19:47.951222: I tensorflow/core/platform/cpu_feature_guard.cc:182] This TensorFlow binary is optimized to use available CPU instructions in performance-critical operations.\n",
      "To enable the following instructions: AVX2 AVX512F AVX512_VNNI AVX512_BF16 FMA, in other operations, rebuild TensorFlow with the appropriate compiler flags.\n",
      "2023-08-13 06:19:48.389136: W tensorflow/compiler/tf2tensorrt/utils/py_utils.cc:38] TF-TRT Warning: Could not find TensorRT\n"
     ]
    },
    {
     "name": "stdout",
     "output_type": "stream",
     "text": [
      "TensorFlow 버전:2.13.0\n",
      "GPU를 찾을 수 없습니다. CPU\n",
      "데이터 생성 완료: (10000, 1000)\n",
      "첫 번째 실행 (GPU 초기화)\n",
      "100 번의 연산을 수행하며 GPU 성능 테스트를 진행합니다.\n",
      "100 번의 연산을 완료하는 데 걸린 총 시간: 0.04 초\n",
      "한 번의 연산 평균 소요 시간: 0.0004 초\n"
     ]
    },
    {
     "name": "stderr",
     "output_type": "stream",
     "text": [
      "2023-08-13 06:19:48.868089: I tensorflow/compiler/xla/stream_executor/cuda/cuda_gpu_executor.cc:981] could not open file to read NUMA node: /sys/bus/pci/devices/0000:01:00.0/numa_node\n",
      "Your kernel may have been built without NUMA support.\n",
      "2023-08-13 06:19:48.868347: W tensorflow/core/common_runtime/gpu/gpu_device.cc:1960] Cannot dlopen some GPU libraries. Please make sure the missing libraries mentioned above are installed properly if you would like to use GPU. Follow the guide at https://www.tensorflow.org/install/gpu for how to download and setup the required libraries for your platform.\n",
      "Skipping registering GPU devices...\n"
     ]
    }
   ],
   "source": [
    "\n",
    "import time\n",
    "\n",
    "print(f\"TensorFlow 버전:{tf.__version__}\")\n",
    "\n",
    "# GPU 사용 설정\n",
    "physical_devices = tf.config.experimental.list_physical_devices('GPU')\n",
    "if len(physical_devices) > 0:\n",
    "    # tf.config.experimental.set_memory_growth(physical_devices[0], True)\n",
    "    print(\"GPU 설정 완료\")\n",
    "else:\n",
    "    print(\"GPU를 찾을 수 없습니다. CPU\")\n",
    "\n",
    "# 테스트할 데이터 생성\n",
    "input_data = tf.random.normal((10000, 1000))\n",
    "print(f\"데이터 생성 완료: {input_data.shape}\")\n",
    "\n",
    "# 모델 정의 (간단한 덧셈 연산)\n",
    "def simple_model(input_data):\n",
    "    return tf.reduce_sum(input_data)\n",
    "\n",
    "# 첫 번째 실행 (GPU 초기화 등)\n",
    "print(\"첫 번째 실행 (GPU 초기화)\")\n",
    "with tf.device('/GPU:0'):\n",
    "    _ = simple_model(input_data)\n",
    "\n",
    "# 성능 테스트 시작\n",
    "num_iterations = 100\n",
    "\n",
    "\n",
    "print(f\"{num_iterations} 번의 연산을 수행하며 GPU 성능 테스트를 진행합니다.\")\n",
    "start_time = time.time()\n",
    "\n",
    "for _ in range(num_iterations):\n",
    "    with tf.device('/GPU:0'):\n",
    "        _ = simple_model(input_data)\n",
    "\n",
    "end_time = time.time()\n",
    "elapsed_time = end_time - start_time\n",
    "\n",
    "print(f\"{num_iterations} 번의 연산을 완료하는 데 걸린 총 시간: {elapsed_time:.2f} 초\")\n",
    "print(f\"한 번의 연산 평균 소요 시간: {elapsed_time / num_iterations:.4f} 초\")\n"
   ]
  },
  {
   "cell_type": "code",
   "execution_count": 3,
   "id": "694bdea1",
   "metadata": {},
   "outputs": [
    {
     "data": {
      "text/html": [
       "<div>\n",
       "<style scoped>\n",
       "    .dataframe tbody tr th:only-of-type {\n",
       "        vertical-align: middle;\n",
       "    }\n",
       "\n",
       "    .dataframe tbody tr th {\n",
       "        vertical-align: top;\n",
       "    }\n",
       "\n",
       "    .dataframe thead th {\n",
       "        text-align: right;\n",
       "    }\n",
       "</style>\n",
       "<table border=\"1\" class=\"dataframe\">\n",
       "  <thead>\n",
       "    <tr style=\"text-align: right;\">\n",
       "      <th></th>\n",
       "      <th>0</th>\n",
       "      <th>1</th>\n",
       "      <th>2</th>\n",
       "      <th>3</th>\n",
       "      <th>4</th>\n",
       "      <th>5</th>\n",
       "      <th>6</th>\n",
       "      <th>7</th>\n",
       "      <th>8</th>\n",
       "      <th>9</th>\n",
       "      <th>...</th>\n",
       "      <th>990</th>\n",
       "      <th>991</th>\n",
       "      <th>992</th>\n",
       "      <th>993</th>\n",
       "      <th>994</th>\n",
       "      <th>995</th>\n",
       "      <th>996</th>\n",
       "      <th>997</th>\n",
       "      <th>998</th>\n",
       "      <th>999</th>\n",
       "    </tr>\n",
       "  </thead>\n",
       "  <tbody>\n",
       "    <tr>\n",
       "      <th>9995</th>\n",
       "      <td>-0.882527</td>\n",
       "      <td>0.789976</td>\n",
       "      <td>1.340343</td>\n",
       "      <td>0.619956</td>\n",
       "      <td>0.028227</td>\n",
       "      <td>0.649500</td>\n",
       "      <td>-0.431159</td>\n",
       "      <td>0.214997</td>\n",
       "      <td>0.950050</td>\n",
       "      <td>-0.641254</td>\n",
       "      <td>...</td>\n",
       "      <td>-1.820185</td>\n",
       "      <td>1.002674</td>\n",
       "      <td>1.022450</td>\n",
       "      <td>1.512857</td>\n",
       "      <td>0.186903</td>\n",
       "      <td>-0.018531</td>\n",
       "      <td>0.146582</td>\n",
       "      <td>0.181933</td>\n",
       "      <td>1.575608</td>\n",
       "      <td>0.047525</td>\n",
       "    </tr>\n",
       "    <tr>\n",
       "      <th>9996</th>\n",
       "      <td>0.285401</td>\n",
       "      <td>-0.874159</td>\n",
       "      <td>-1.576182</td>\n",
       "      <td>-0.128519</td>\n",
       "      <td>-0.294435</td>\n",
       "      <td>0.320174</td>\n",
       "      <td>-0.501866</td>\n",
       "      <td>-2.472376</td>\n",
       "      <td>0.285794</td>\n",
       "      <td>-1.723199</td>\n",
       "      <td>...</td>\n",
       "      <td>-1.439092</td>\n",
       "      <td>0.308867</td>\n",
       "      <td>0.350878</td>\n",
       "      <td>-0.503683</td>\n",
       "      <td>0.756999</td>\n",
       "      <td>-0.722034</td>\n",
       "      <td>0.226497</td>\n",
       "      <td>0.898851</td>\n",
       "      <td>0.810341</td>\n",
       "      <td>-0.369284</td>\n",
       "    </tr>\n",
       "    <tr>\n",
       "      <th>9997</th>\n",
       "      <td>0.983377</td>\n",
       "      <td>0.114405</td>\n",
       "      <td>0.091800</td>\n",
       "      <td>-0.160002</td>\n",
       "      <td>1.082477</td>\n",
       "      <td>1.314486</td>\n",
       "      <td>-1.501443</td>\n",
       "      <td>-0.981259</td>\n",
       "      <td>-0.763647</td>\n",
       "      <td>-1.367873</td>\n",
       "      <td>...</td>\n",
       "      <td>-0.160540</td>\n",
       "      <td>-1.171217</td>\n",
       "      <td>-0.140386</td>\n",
       "      <td>0.061611</td>\n",
       "      <td>0.911805</td>\n",
       "      <td>0.818159</td>\n",
       "      <td>-0.289598</td>\n",
       "      <td>-0.947687</td>\n",
       "      <td>-0.240040</td>\n",
       "      <td>-0.064524</td>\n",
       "    </tr>\n",
       "    <tr>\n",
       "      <th>9998</th>\n",
       "      <td>-0.497312</td>\n",
       "      <td>-2.052049</td>\n",
       "      <td>-1.216399</td>\n",
       "      <td>1.681113</td>\n",
       "      <td>0.255920</td>\n",
       "      <td>-1.194006</td>\n",
       "      <td>-0.180511</td>\n",
       "      <td>0.237661</td>\n",
       "      <td>0.563920</td>\n",
       "      <td>0.889990</td>\n",
       "      <td>...</td>\n",
       "      <td>-0.746516</td>\n",
       "      <td>0.763588</td>\n",
       "      <td>0.324030</td>\n",
       "      <td>0.432970</td>\n",
       "      <td>-0.422923</td>\n",
       "      <td>1.005693</td>\n",
       "      <td>-0.512178</td>\n",
       "      <td>0.660075</td>\n",
       "      <td>-0.842745</td>\n",
       "      <td>0.992274</td>\n",
       "    </tr>\n",
       "    <tr>\n",
       "      <th>9999</th>\n",
       "      <td>-0.608236</td>\n",
       "      <td>1.249498</td>\n",
       "      <td>0.690749</td>\n",
       "      <td>0.219163</td>\n",
       "      <td>-1.005016</td>\n",
       "      <td>-0.350135</td>\n",
       "      <td>0.929976</td>\n",
       "      <td>1.541269</td>\n",
       "      <td>0.186588</td>\n",
       "      <td>-1.489761</td>\n",
       "      <td>...</td>\n",
       "      <td>-0.887501</td>\n",
       "      <td>-0.148133</td>\n",
       "      <td>-1.192647</td>\n",
       "      <td>0.218970</td>\n",
       "      <td>1.051443</td>\n",
       "      <td>-0.055095</td>\n",
       "      <td>0.820559</td>\n",
       "      <td>-1.386028</td>\n",
       "      <td>0.373621</td>\n",
       "      <td>-0.466077</td>\n",
       "    </tr>\n",
       "  </tbody>\n",
       "</table>\n",
       "<p>5 rows × 1000 columns</p>\n",
       "</div>"
      ],
      "text/plain": [
       "           0         1         2         3         4         5         6    \\\n",
       "9995 -0.882527  0.789976  1.340343  0.619956  0.028227  0.649500 -0.431159   \n",
       "9996  0.285401 -0.874159 -1.576182 -0.128519 -0.294435  0.320174 -0.501866   \n",
       "9997  0.983377  0.114405  0.091800 -0.160002  1.082477  1.314486 -1.501443   \n",
       "9998 -0.497312 -2.052049 -1.216399  1.681113  0.255920 -1.194006 -0.180511   \n",
       "9999 -0.608236  1.249498  0.690749  0.219163 -1.005016 -0.350135  0.929976   \n",
       "\n",
       "           7         8         9    ...       990       991       992  \\\n",
       "9995  0.214997  0.950050 -0.641254  ... -1.820185  1.002674  1.022450   \n",
       "9996 -2.472376  0.285794 -1.723199  ... -1.439092  0.308867  0.350878   \n",
       "9997 -0.981259 -0.763647 -1.367873  ... -0.160540 -1.171217 -0.140386   \n",
       "9998  0.237661  0.563920  0.889990  ... -0.746516  0.763588  0.324030   \n",
       "9999  1.541269  0.186588 -1.489761  ... -0.887501 -0.148133 -1.192647   \n",
       "\n",
       "           993       994       995       996       997       998       999  \n",
       "9995  1.512857  0.186903 -0.018531  0.146582  0.181933  1.575608  0.047525  \n",
       "9996 -0.503683  0.756999 -0.722034  0.226497  0.898851  0.810341 -0.369284  \n",
       "9997  0.061611  0.911805  0.818159 -0.289598 -0.947687 -0.240040 -0.064524  \n",
       "9998  0.432970 -0.422923  1.005693 -0.512178  0.660075 -0.842745  0.992274  \n",
       "9999  0.218970  1.051443 -0.055095  0.820559 -1.386028  0.373621 -0.466077  \n",
       "\n",
       "[5 rows x 1000 columns]"
      ]
     },
     "execution_count": 3,
     "metadata": {},
     "output_type": "execute_result"
    }
   ],
   "source": [
    "import pandas as pd\n",
    "\n",
    "df = pd.DataFrame(input_data)\n",
    "df.tail()"
   ]
  },
  {
   "cell_type": "code",
   "execution_count": 4,
   "id": "a90e9f02-c783-4361-be64-236e0cb707d5",
   "metadata": {},
   "outputs": [],
   "source": [
    "tmp_bool = True"
   ]
  },
  {
   "cell_type": "code",
   "execution_count": 5,
   "id": "841e2a67-f626-4320-8547-0a7356de13fc",
   "metadata": {},
   "outputs": [
    {
     "name": "stdout",
     "output_type": "stream",
     "text": [
      "['/tf-test', '/usr/local/lib/python38.zip', '/usr/local/lib/python3.8', '/usr/local/lib/python3.8/lib-dynload', '', '/usr/local/lib/python3.8/site-packages', '/tf-test/tensorflow_origin']\n"
     ]
    }
   ],
   "source": [
    "import sys\n",
    "\n",
    "if tmp_bool:\n",
    "    sys.path.append(\"/tf-test/tensorflow_origin\")\n",
    "    tmp_bool = False\n",
    "print(sys.path)\n"
   ]
  },
  {
   "cell_type": "code",
   "execution_count": 6,
   "id": "2a690a95-04ea-4aa2-8eaa-e90277353939",
   "metadata": {},
   "outputs": [
    {
     "data": {
      "text/plain": [
       "sys.version_info(major=3, minor=8, micro=5, releaselevel='final', serial=0)"
      ]
     },
     "execution_count": 6,
     "metadata": {},
     "output_type": "execute_result"
    }
   ],
   "source": [
    "sys.version_info"
   ]
  },
  {
   "cell_type": "code",
   "execution_count": 9,
   "id": "a29c2760-920c-444b-9fb0-887c35be15e5",
   "metadata": {},
   "outputs": [
    {
     "name": "stdout",
     "output_type": "stream",
     "text": [
      "[]\n"
     ]
    }
   ],
   "source": [
    "sys.path.clear()\n",
    "print(sys.path)"
   ]
  },
  {
   "cell_type": "code",
   "execution_count": 10,
   "id": "96b7a0fd",
   "metadata": {},
   "outputs": [
    {
     "name": "stdout",
     "output_type": "stream",
     "text": [
      "2.13.0\n"
     ]
    }
   ],
   "source": [
    "import tensorflow as tf2\n",
    "\n",
    "print(tf2.__version__)"
   ]
  }
 ],
 "metadata": {
  "kernelspec": {
   "display_name": "Python 3 (ipykernel)",
   "language": "python",
   "name": "python3"
  },
  "language_info": {
   "codemirror_mode": {
    "name": "ipython",
    "version": 3
   },
   "file_extension": ".py",
   "mimetype": "text/x-python",
   "name": "python",
   "nbconvert_exporter": "python",
   "pygments_lexer": "ipython3",
   "version": "3.8.10"
  }
 },
 "nbformat": 4,
 "nbformat_minor": 5
}
