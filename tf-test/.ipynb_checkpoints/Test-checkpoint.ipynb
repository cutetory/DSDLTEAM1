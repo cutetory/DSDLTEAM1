{
 "cells": [
  {
   "cell_type": "code",
   "execution_count": 1,
   "id": "f193c7d7-b80d-4a0d-a788-84e8aea87b03",
   "metadata": {},
   "outputs": [
    {
     "name": "stdout",
     "output_type": "stream",
     "text": [
      "작성자 박준영\n"
     ]
    }
   ],
   "source": [
    "print(\"작성자 박준영\")"
   ]
  },
  {
   "cell_type": "code",
   "execution_count": 1,
   "id": "4148544e-af57-4dba-b16e-b8b955204f8b",
   "metadata": {},
   "outputs": [
    {
     "name": "stderr",
     "output_type": "stream",
     "text": [
      "2023-08-13 05:02:29.632275: I tensorflow/core/util/port.cc:110] oneDNN custom operations are on. You may see slightly different numerical results due to floating-point round-off errors from different computation orders. To turn them off, set the environment variable `TF_ENABLE_ONEDNN_OPTS=0`.\n",
      "2023-08-13 05:02:29.762704: I tensorflow/core/platform/cpu_feature_guard.cc:182] This TensorFlow binary is optimized to use available CPU instructions in performance-critical operations.\n",
      "To enable the following instructions: AVX2 AVX512F AVX512_VNNI AVX512_BF16 FMA, in other operations, rebuild TensorFlow with the appropriate compiler flags.\n"
     ]
    },
    {
     "name": "stdout",
     "output_type": "stream",
     "text": [
      "TensorFlow 버전:2.13.0\n",
      "GPU 설정 완료\n",
      "데이터 생성 완료: (10000, 1000)\n",
      "첫 번째 실행 (GPU 초기화)\n",
      "100 번의 연산을 수행하며 GPU 성능 테스트를 진행합니다.\n",
      "100 번의 연산을 완료하는 데 걸린 총 시간: 0.01 초\n",
      "한 번의 연산 평균 소요 시간: 0.0001 초\n"
     ]
    },
    {
     "name": "stderr",
     "output_type": "stream",
     "text": [
      "2023-08-13 05:02:31.512704: I tensorflow/compiler/xla/stream_executor/cuda/cuda_gpu_executor.cc:981] could not open file to read NUMA node: /sys/bus/pci/devices/0000:01:00.0/numa_node\n",
      "Your kernel may have been built without NUMA support.\n",
      "2023-08-13 05:02:31.525478: I tensorflow/compiler/xla/stream_executor/cuda/cuda_gpu_executor.cc:981] could not open file to read NUMA node: /sys/bus/pci/devices/0000:01:00.0/numa_node\n",
      "Your kernel may have been built without NUMA support.\n",
      "2023-08-13 05:02:31.525623: I tensorflow/compiler/xla/stream_executor/cuda/cuda_gpu_executor.cc:981] could not open file to read NUMA node: /sys/bus/pci/devices/0000:01:00.0/numa_node\n",
      "Your kernel may have been built without NUMA support.\n",
      "2023-08-13 05:02:31.528419: I tensorflow/compiler/xla/stream_executor/cuda/cuda_gpu_executor.cc:981] could not open file to read NUMA node: /sys/bus/pci/devices/0000:01:00.0/numa_node\n",
      "Your kernel may have been built without NUMA support.\n",
      "2023-08-13 05:02:31.528548: I tensorflow/compiler/xla/stream_executor/cuda/cuda_gpu_executor.cc:981] could not open file to read NUMA node: /sys/bus/pci/devices/0000:01:00.0/numa_node\n",
      "Your kernel may have been built without NUMA support.\n",
      "2023-08-13 05:02:31.528669: I tensorflow/compiler/xla/stream_executor/cuda/cuda_gpu_executor.cc:981] could not open file to read NUMA node: /sys/bus/pci/devices/0000:01:00.0/numa_node\n",
      "Your kernel may have been built without NUMA support.\n",
      "2023-08-13 05:02:32.165748: I tensorflow/compiler/xla/stream_executor/cuda/cuda_gpu_executor.cc:981] could not open file to read NUMA node: /sys/bus/pci/devices/0000:01:00.0/numa_node\n",
      "Your kernel may have been built without NUMA support.\n",
      "2023-08-13 05:02:32.165958: I tensorflow/compiler/xla/stream_executor/cuda/cuda_gpu_executor.cc:981] could not open file to read NUMA node: /sys/bus/pci/devices/0000:01:00.0/numa_node\n",
      "Your kernel may have been built without NUMA support.\n",
      "2023-08-13 05:02:32.165970: I tensorflow/core/common_runtime/gpu/gpu_device.cc:1726] Could not identify NUMA node of platform GPU id 0, defaulting to 0.  Your kernel may not have been built with NUMA support.\n",
      "2023-08-13 05:02:32.166098: I tensorflow/compiler/xla/stream_executor/cuda/cuda_gpu_executor.cc:981] could not open file to read NUMA node: /sys/bus/pci/devices/0000:01:00.0/numa_node\n",
      "Your kernel may have been built without NUMA support.\n",
      "2023-08-13 05:02:32.166133: I tensorflow/core/common_runtime/gpu/gpu_device.cc:1639] Created device /job:localhost/replica:0/task:0/device:GPU:0 with 21579 MB memory:  -> device: 0, name: NVIDIA GeForce RTX 3090 Ti, pci bus id: 0000:01:00.0, compute capability: 8.6\n"
     ]
    }
   ],
   "source": [
    "import tensorflow as tf\n",
    "import time\n",
    "\n",
    "print(f\"TensorFlow 버전:{tf.__version__}\")\n",
    "\n",
    "# GPU 사용 설정\n",
    "physical_devices = tf.config.experimental.list_physical_devices('GPU')\n",
    "if len(physical_devices) > 0:\n",
    "    tf.config.experimental.set_memory_growth(physical_devices[0], True)\n",
    "    print(\"GPU 설정 완료\")\n",
    "else:\n",
    "    print(\"GPU를 찾을 수 없습니다. CPU\")\n",
    "\n",
    "# 테스트할 데이터 생성\n",
    "input_data = tf.random.normal((10000, 1000))\n",
    "print(f\"데이터 생성 완료: {input_data.shape}\")\n",
    "\n",
    "# 모델 정의 (간단한 덧셈 연산)\n",
    "def simple_model(input_data):\n",
    "    return tf.reduce_sum(input_data)\n",
    "\n",
    "# 첫 번째 실행 (GPU 초기화 등)\n",
    "print(\"첫 번째 실행 (GPU 초기화)\")\n",
    "with tf.device('/GPU:0'):\n",
    "    _ = simple_model(input_data)\n",
    "\n",
    "# 성능 테스트 시작\n",
    "num_iterations = 100\n",
    "\n",
    "print(f\"{num_iterations} 번의 연산을 수행하며 GPU 성능 테스트를 진행합니다.\")\n",
    "start_time = time.time()\n",
    "\n",
    "for _ in range(num_iterations):\n",
    "    with tf.device('/GPU:0'):\n",
    "        _ = simple_model(input_data)\n",
    "\n",
    "end_time = time.time()\n",
    "elapsed_time = end_time - start_time\n",
    "\n",
    "print(f\"{num_iterations} 번의 연산을 완료하는 데 걸린 총 시간: {elapsed_time:.2f} 초\")\n",
    "print(f\"한 번의 연산 평균 소요 시간: {elapsed_time / num_iterations:.4f} 초\")\n"
   ]
  }
 ],
 "metadata": {
  "kernelspec": {
   "display_name": "Python 3 (ipykernel)",
   "language": "python",
   "name": "python3"
  },
  "language_info": {
   "codemirror_mode": {
    "name": "ipython",
    "version": 3
   },
   "file_extension": ".py",
   "mimetype": "text/x-python",
   "name": "python",
   "nbconvert_exporter": "python",
   "pygments_lexer": "ipython3",
   "version": "3.8.10"
  }
 },
 "nbformat": 4,
 "nbformat_minor": 5
}
