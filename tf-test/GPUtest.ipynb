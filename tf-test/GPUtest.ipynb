{
 "cells": [
  {
   "cell_type": "code",
   "execution_count": null,
   "metadata": {},
   "outputs": [],
   "source": [
    "import time\n",
    "import sys\n",
    "import inspect #디버깅용\n",
    "import torch\n",
    "import tensorflow as tf\n",
    "import torchvision\n",
    "import ninja\n",
    "import click\n",
    "\n",
    "def time_stamp():\n",
    "    temp = r\"%Y-%m-%d %H:%M:%S\"\n",
    "    current_frame = inspect.currentframe()\n",
    "    tmp = f\"{time.strftime(temp, time.localtime(time.time()))}: [{inspect.getframeinfo(current_frame).filename}]:\"\n",
    "    return tmp\n",
    "\n",
    "def version_all():\n",
    "    print(f\"{time_stamp()}Python 버전📌 {sys.version_info}\")\n",
    "    print(f\"{time_stamp()}Pytorch 버전📌 {torch.__version__}\")\n",
    "    print(f\"{time_stamp()}torchvision 버전📌 {torchvision.__version__}\")\n",
    "    print(f\"{time_stamp()}ninja 버전📌 {ninja.__version__}\")\n",
    "    print(f\"{time_stamp()}Torch GPU 가능여부📌 {torch.torch.cuda.is_available()}\")\n",
    "    print(f\"{time_stamp()}Tensorflow GPU 가능여부📌 {tf.config.list_physical_devices('GPU')}\") # 텐서플로우 2.x버전\n",
    "    # print(f\"{time_stamp()}Tensorflow GPU 가능여부📌 {device_lib.list_local_devices()}\") # 텐서플로우 1.x버전\n",
    "    print(f\"{time_stamp()}Click Version📌 {click.__version__}\") # 텐서플로우 1.x버전\n",
    "    # print(f\"{time_stamp()}Click Version📌 {cudatoolkit.__version__}\")\n",
    "    \n",
    "    \n",
    "\n",
    "\n",
    "\n",
    "version_all()"
   ]
  },
  {
   "cell_type": "code",
   "execution_count": null,
   "metadata": {},
   "outputs": [],
   "source": [
    "!nvcc --version"
   ]
  },
  {
   "cell_type": "code",
   "execution_count": null,
   "metadata": {},
   "outputs": [],
   "source": [
    "!nvcc test_nvcc.cu -o test_nvcc -run"
   ]
  }
 ],
 "metadata": {
  "kernelspec": {
   "display_name": "Python 3 (ipykernel)",
   "language": "python",
   "name": "python3"
  },
  "language_info": {
   "codemirror_mode": {
    "name": "ipython",
    "version": 3
   },
   "file_extension": ".py",
   "mimetype": "text/x-python",
   "name": "python",
   "nbconvert_exporter": "python",
   "pygments_lexer": "ipython3",
   "version": "3.8.10"
  }
 },
 "nbformat": 4,
 "nbformat_minor": 4
}
